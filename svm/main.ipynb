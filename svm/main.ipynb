{
 "cells": [
  {
   "cell_type": "code",
   "execution_count": 13,
   "metadata": {},
   "outputs": [],
   "source": [
    "import pandas as pd \n",
    "import numpy as np\n",
    "import sklearn\n",
    "import matplotlib.pyplot as pyplot\n",
    "from matplotlib import style\n",
    "from sklearn import linear_model,datasets, svm,metrics\n",
    "from sklearn.utils import shuffle\n",
    "import pickle, os\n",
    "cancer = datasets.load_breast_cancer()\n",
    "\n",
    "# print(cancer.feature_names)\n",
    "# print(cancer.target_names)"
   ]
  },
  {
   "cell_type": "code",
   "execution_count": 15,
   "metadata": {},
   "outputs": [
    {
     "name": "stdout",
     "output_type": "stream",
     "text": [
      "Best Score: 1.0\n",
      "completed--\n"
     ]
    }
   ],
   "source": [
    "x = cancer.data\n",
    "y=cancer.target\n",
    "# Initialize the model score\n",
    "best= 0  # Initialize to 0\n",
    "model = 'studentmodel.pickle'\n",
    "\n",
    "# Check if the model file exists\n",
    "if os.path.exists(model):\n",
    "    # Open the pickle file and load the model and its score\n",
    "    with open(model, 'rb') as pickle_in:\n",
    "        prevmodel, best = pickle.load(pickle_in)  # Unpack the model and score\n",
    "    clf = prevmodel\n",
    "    print(f\"Best Score: {best}\")  # Now `best` holds the score of the model\n",
    "else:\n",
    "    # If the model doesn't exist, initialize the svm model\n",
    "    clf = svm.SVC(kernel=\"linear\")\n",
    "# Iterate to train the model\n",
    "for _ in range(30):\n",
    "    x_train, x_test, y_train, y_test = sklearn.model_selection.train_test_split(x, y, test_size=0.1)\n",
    "\n",
    "    classes = cancer.target_names\n",
    "    # print(x_train, y_train)\n",
    "\n",
    "    clf.fit(x_train, y_train)\n",
    "\n",
    "    \n",
    "    # Calculate accuracy\n",
    "    y_pred = clf.predict(x_test)\n",
    "\n",
    "    acc = metrics.accuracy_score(y_test, y_pred)\n",
    "    \n",
    "    # Check if the current accuracy is better than the best score\n",
    "    if acc > best:\n",
    "        best = acc  # Update best score\n",
    "        print(f\"{_} -: better version found... saved: \\n{acc}\")\n",
    "        \n",
    "        # Save both the model and the best score\n",
    "        with open(model, 'wb') as f:\n",
    "            pickle.dump((clf, best), f)  # Save both model and score\n",
    "print('completed--')"
   ]
  }
 ],
 "metadata": {
  "kernelspec": {
   "display_name": "venv",
   "language": "python",
   "name": "python3"
  },
  "language_info": {
   "codemirror_mode": {
    "name": "ipython",
    "version": 3
   },
   "file_extension": ".py",
   "mimetype": "text/x-python",
   "name": "python",
   "nbconvert_exporter": "python",
   "pygments_lexer": "ipython3",
   "version": "3.12.6"
  }
 },
 "nbformat": 4,
 "nbformat_minor": 2
}
